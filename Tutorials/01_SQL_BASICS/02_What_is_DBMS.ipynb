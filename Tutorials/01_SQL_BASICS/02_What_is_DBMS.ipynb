{
 "cells": [
  {
   "cell_type": "markdown",
   "metadata": {},
   "source": [
    "<h2>Database Management System (DBMS)</h2>"
   ]
  },
  {
   "cell_type": "markdown",
   "metadata": {},
   "source": [
    "<h3>What is DBMS?</h3>\n",
    "\n",
    "A Database Management System (DBMS) is a software system that is designed to manage and organize data in a structured manner. It allows users to create, modify and query a database as well as manage the security and access controls for that database.\n",
    "\n",
    "DBMS provides an environment to store and retrieve data in convenient and efficient manner.\n",
    "\n",
    "For Example, MySQL, Oracle, etc. are popular commercial DBMS used in different applications. DBMS allows users the following tasks: \n",
    "\n",
    " - <b>Data Definition:</b> It helps in the creation, modification, and removal of definitions that define the organization of data in the database. \n",
    " - <b>Data Updation:</b> It helps in the insertion, modification, and deletion of the actual data in the database. \n",
    " - <b>Data Retrieval:</b> It helps in the retrieval of data from the database which can be used by applications for various purposes. \n",
    " - <b>User Administration:</b> It helps in registering and monitoring users, enforcing data security, monitoring performance, maintaining data integrity, dealing with concurrency control, and recovering information corrupted by unexpected failure."
   ]
  },
  {
   "cell_type": "markdown",
   "metadata": {},
   "source": [
    "<h3>What are the Database languages?</h3>"
   ]
  },
  {
   "cell_type": "markdown",
   "metadata": {},
   "source": [
    "<h4>1. Data Definition Language (DDL):</h4>\n",
    "\n",
    "DDL is the short name for Data Definition Language, which deals with database schemas and descriptions, of how the data should reside in the database.\n",
    "\n",
    " - <b>CREATE:</b> to create a database and its objects like (table, index, views, store procedure, function, and triggers)\n",
    " - <b>ALTER:</b> alters the structure of the existing database\n",
    " - <b>DROP:</b> delete objects from the database\n",
    " - <b>TRUNCATE:</b> remove all records from a table, including all spaces allocated for the records are removed\n",
    " - <b>COMMENT:</b> add comments to the data dictionary\n",
    " - <b>RENAME:</b> rename an object"
   ]
  },
  {
   "cell_type": "markdown",
   "metadata": {},
   "source": [
    "<h4>2. Data Manipulation Language (DML):</h4>\n",
    "\n",
    "DML is the short name for Data Manipulation Language which deals with data manipulation and includes most common SQL statements such SELECT, INSERT, UPDATE, DELETE, etc., and it is used to store, modify, retrieve, delete and update data in a database.\n",
    "\n",
    " - <b>SELECT:</b> retrieve data from a database\n",
    " - <b>INSERT:</b> insert data into a table\n",
    " - <b>UPDATE:</b> updates existing data within a table\n",
    " - <b>DELETE:</b> Delete all records from a database table\n",
    " - <b>MERGE:</b> UPSERT operation (insert or update)\n",
    " - <b>CALL:</b> call a PL/SQL or Java subprogram\n",
    " - <b>EXPLAIN PLAN:</b> interpretation of the data access path\n",
    " - <b>LOCK TABLE:</b> concurrency Control"
   ]
  },
  {
   "cell_type": "markdown",
   "metadata": {},
   "source": [
    "<h4>3. Data Control Language (DCL):</h4>\n",
    "\n",
    "DCL is short for Data Control Language which acts as an access specifier to the database.(basically to grant and revoke permissions to users in the database\n",
    "\n",
    " - <b>GRANT:</b> grant permissions to the user for running DML(SELECT, INSERT, DELETE,…) commands on the table\n",
    " - <b>REVOKE:</b> revoke permissions to the user for running DML(SELECT, INSERT, DELETE,…) command on the specified table"
   ]
  },
  {
   "cell_type": "markdown",
   "metadata": {},
   "source": [
    "<h4>4. Transactional Control Language (TCL):</h4>\n",
    "\n",
    "TCL is short for Transactional Control Language which acts as an manager for all types of transactional data and all transactions. Some of the command of TCL are\n",
    "\n",
    " - <b>Roll Back:</b> Used to cancel  or Undo changes made in the database \n",
    " - <b>Commit:</b> It is used to apply or save changes in the database\n",
    " - <b>Save Point:</b> It is used to save the data on the temporary basis in the database"
   ]
  },
  {
   "cell_type": "markdown",
   "metadata": {},
   "source": [
    "<h4>Types of DBMS:</h4>\n",
    "\n",
    " - <b>Relational DBMS (RDBMS):</b> An RDBMS stores data in tables with rows and columns, and uses SQL (Structured Query Language) to manipulate the data.\n",
    " - <b>Object-Oriented DBMS (OODBMS):</b> An OODBMS stores data as objects, which can be manipulated using object-oriented programming languages.\n",
    " - <b>NoSQL DBMS:</b> A NoSQL DBMS stores data in non-relational data structures, such as key-value pairs, document-based models, or graph models."
   ]
  }
 ],
 "metadata": {
  "kernelspec": {
   "display_name": "Python 3",
   "language": "python",
   "name": "python3"
  },
  "language_info": {
   "name": "python",
   "version": "undefined.undefined.undefined"
  }
 },
 "nbformat": 4,
 "nbformat_minor": 2
}
